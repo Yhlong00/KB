{
 "cells": [
  {
   "cell_type": "code",
   "execution_count": 2,
   "id": "c4fd2661-4dcf-4e5f-9504-90bd3b2fc5ed",
   "metadata": {},
   "outputs": [
    {
     "name": "stdout",
     "output_type": "stream",
     "text": [
      "CUDA is available. PyTorch is using the GPU.\n",
      "Number of GPUs available: 1\n",
      "GPU Name: AMD Instinct MI300X\n",
      "CUDA Version: None\n",
      "ROCm (MPS) backend is not available.\n",
      "Tensor operation successful. Result:\n",
      " tensor([[-0.3193,  0.5340,  2.9861],\n",
      "        [ 0.5647, -0.7232, -4.4617],\n",
      "        [-1.4001,  1.9878, 11.6779]])\n"
     ]
    }
   ],
   "source": [
    "import torch\n",
    "\n",
    "# Check if the GPU is available\n",
    "if torch.cuda.is_available():\n",
    "    print(\"CUDA is available. PyTorch is using the GPU.\")\n",
    "    print(\"Number of GPUs available:\", torch.cuda.device_count())\n",
    "    print(\"GPU Name:\", torch.cuda.get_device_name(0))\n",
    "    print(\"CUDA Version:\", torch.version.cuda)  # Print the CUDA version\n",
    "else:\n",
    "    print(\"CUDA is not available. PyTorch is not using the GPU.\")\n",
    "\n",
    "# Check if ROCm is available\n",
    "if torch.backends.mps.is_available():\n",
    "    print(\"ROCm (MPS) backend is available.\")\n",
    "else:\n",
    "    print(\"ROCm (MPS) backend is not available.\")\n",
    "\n",
    "# Perform a simple tensor operation on the GPU\n",
    "try:\n",
    "    # Create a tensor\n",
    "    x = torch.randn(3, 3)\n",
    "\n",
    "    # Move the tensor to the GPU (if available)\n",
    "    device = torch.device(\"cuda\" if torch.cuda.is_available() else \"cpu\")\n",
    "    x = x.to(device)\n",
    "\n",
    "    # Perform a matrix multiplication (as an example)\n",
    "    y = torch.mm(x, x)\n",
    "\n",
    "    # Move the result back to the CPU (if necessary)\n",
    "    y = y.to(\"cpu\")\n",
    "\n",
    "    print(\"Tensor operation successful. Result:\\n\", y)\n",
    "\n",
    "except Exception as e:\n",
    "    print(\"Error during tensor operation:\", e)"
   ]
  },
  {
   "cell_type": "code",
   "execution_count": 3,
   "id": "ba2bd6d1-af13-44fb-ae6e-3ce5bcff1c22",
   "metadata": {},
   "outputs": [
    {
     "name": "stderr",
     "output_type": "stream",
     "text": [
      "/opt/conda/envs/py_3.10/lib/python3.10/site-packages/torchvision-0.16.1+fdea156-py3.10-linux-x86_64.egg/torchvision/io/image.py:13: UserWarning: Failed to load image Python extension: '/opt/conda/envs/py_3.10/lib/python3.10/site-packages/torchvision-0.16.1+fdea156-py3.10-linux-x86_64.egg/torchvision/image.so: undefined symbol: _ZN3c1017RegisterOperatorsD1Ev'If you don't plan on using image functionality from `torchvision.io`, you can ignore this warning. Otherwise, there might be something wrong with your environment. Did you have `libjpeg` or `libpng` installed before building `torchvision` from source?\n",
      "  warn(\n",
      "/opt/conda/envs/py_3.10/lib/python3.10/site-packages/torchvision-0.16.1+fdea156-py3.10-linux-x86_64.egg/torchvision/models/_utils.py:208: UserWarning: The parameter 'pretrained' is deprecated since 0.13 and may be removed in the future, please use 'weights' instead.\n",
      "  warnings.warn(\n",
      "/opt/conda/envs/py_3.10/lib/python3.10/site-packages/torchvision-0.16.1+fdea156-py3.10-linux-x86_64.egg/torchvision/models/_utils.py:223: UserWarning: Arguments other than a weight enum or `None` for 'weights' are deprecated since 0.13 and may be removed in the future. The current behavior is equivalent to passing `weights=ResNet18_Weights.IMAGENET1K_V1`. You can also use `weights=ResNet18_Weights.DEFAULT` to get the most up-to-date weights.\n",
      "  warnings.warn(msg)\n",
      "Downloading: \"https://download.pytorch.org/models/resnet18-f37072fd.pth\" to /root/.cache/torch/hub/checkpoints/resnet18-f37072fd.pth\n",
      "100%|██████████| 44.7M/44.7M [00:00<00:00, 113MB/s] \n"
     ]
    },
    {
     "name": "stdout",
     "output_type": "stream",
     "text": [
      "Torchvision test successful. Model output shape: torch.Size([1, 1000])\n"
     ]
    }
   ],
   "source": [
    "import torch\n",
    "import torchvision.models as models\n",
    "import torchvision.transforms as transforms\n",
    "from PIL import Image\n",
    "\n",
    "# Check if GPU is available\n",
    "device = torch.device(\"cuda\" if torch.cuda.is_available() else \"cpu\")\n",
    "\n",
    "# Load a pretrained model\n",
    "model = models.resnet18(pretrained=True)\n",
    "model = model.to(device)\n",
    "model.eval()\n",
    "\n",
    "# Create a random image tensor\n",
    "image_tensor = torch.randn(1, 3, 224, 224).to(device)\n",
    "\n",
    "# Perform a forward pass\n",
    "with torch.no_grad():\n",
    "    output = model(image_tensor)\n",
    "\n",
    "print(\"Torchvision test successful. Model output shape:\", output.shape)"
   ]
  },
  {
   "cell_type": "code",
   "execution_count": 8,
   "id": "a59f6393-7aa9-4ba1-b18c-ff59ee256f54",
   "metadata": {},
   "outputs": [
    {
     "name": "stdout",
     "output_type": "stream",
     "text": [
      "Torchaudio test successful. Transformed waveform shape: torch.Size([2, 39680])\n"
     ]
    }
   ],
   "source": [
    "# AMD \n",
    "import torch\n",
    "import torchaudio\n",
    "import torchaudio.transforms as T\n",
    "\n",
    "# Check if GPU is available\n",
    "device = torch.device(\"cuda\" if torch.cuda.is_available() else \"cpu\")\n",
    "\n",
    "# Load an example waveform (replace with your own audio file if necessary)\n",
    "waveform, sample_rate = torchaudio.load(torchaudio.utils.download_asset(\"tutorial-assets/steam-train-whistle-daniel_simon.wav\"))\n",
    "waveform = waveform.to(device)\n",
    "\n",
    "# Apply a basic transformation (e.g., Resample)\n",
    "transform = T.Resample(orig_freq=sample_rate, new_freq=16000).to(device)\n",
    "transformed_waveform = transform(waveform)\n",
    "\n",
    "print(\"Torchaudio test successful. Transformed waveform shape:\", transformed_waveform.shape)"
   ]
  },
  {
   "cell_type": "code",
   "execution_count": null,
   "id": "788e4409-9939-4142-b675-0e52bec90878",
   "metadata": {},
   "outputs": [],
   "source": [
    "# Nvidia"
   ]
  },
  {
   "cell_type": "code",
   "execution_count": 4,
   "id": "78dd28f0-494e-4d07-89b7-b400f22bc921",
   "metadata": {},
   "outputs": [
    {
     "name": "stdout",
     "output_type": "stream",
     "text": [
      "Requirement already satisfied: scipy in /opt/conda/envs/py_3.10/lib/python3.10/site-packages (1.8.1)\n",
      "Collecting numpy<1.25.0,>=1.17.3 (from scipy)\n",
      "  Downloading numpy-1.24.4-cp310-cp310-manylinux_2_17_x86_64.manylinux2014_x86_64.whl.metadata (5.6 kB)\n",
      "Downloading numpy-1.24.4-cp310-cp310-manylinux_2_17_x86_64.manylinux2014_x86_64.whl (17.3 MB)\n",
      "\u001b[2K   \u001b[90m━━━━━━━━━━━━━━━━━━━━━━━━━━━━━━━━━━━━━━━━\u001b[0m \u001b[32m17.3/17.3 MB\u001b[0m \u001b[31m17.1 MB/s\u001b[0m eta \u001b[36m0:00:00\u001b[0m00:01\u001b[0m0:01\u001b[0m\n",
      "\u001b[?25hInstalling collected packages: numpy\n",
      "  Attempting uninstall: numpy\n",
      "    Found existing installation: numpy 1.26.4\n",
      "    Uninstalling numpy-1.26.4:\n",
      "      Successfully uninstalled numpy-1.26.4\n",
      "\u001b[31mERROR: pip's dependency resolver does not currently take into account all the packages that are installed. This behaviour is the source of the following dependency conflicts.\n",
      "numba 0.55.2 requires numpy<1.23,>=1.18, but you have numpy 1.24.4 which is incompatible.\u001b[0m\u001b[31m\n",
      "\u001b[0mSuccessfully installed numpy-1.24.4\n",
      "\u001b[33mWARNING: Running pip as the 'root' user can result in broken permissions and conflicting behaviour with the system package manager, possibly rendering your system unusable.It is recommended to use a virtual environment instead: https://pip.pypa.io/warnings/venv. Use the --root-user-action option if you know what you are doing and want to suppress this warning.\u001b[0m\u001b[33m\n",
      "\u001b[0mNote: you may need to restart the kernel to use updated packages.\n"
     ]
    }
   ],
   "source": [
    "pip install scipy"
   ]
  },
  {
   "cell_type": "code",
   "execution_count": 1,
   "id": "2f270582-3d27-462b-834e-b56074fb0998",
   "metadata": {},
   "outputs": [
    {
     "name": "stdout",
     "output_type": "stream",
     "text": [
      "Torchaudio test successful. Transformed waveform shape: torch.Size([1, 109368, 1])\n"
     ]
    }
   ],
   "source": [
    "import torch\n",
    "import torchaudio\n",
    "import torchaudio.transforms as T\n",
    "from scipy.io import wavfile\n",
    "\n",
    "# Check if GPU is available\n",
    "device = torch.device(\"cuda\" if torch.cuda.is_available() else \"cpu\")\n",
    "\n",
    "# Use SciPy to load the audio file\n",
    "sample_rate, waveform_np = wavfile.read(\"/root/.cache/torch/hub/torchaudio/tutorial-assets/steam-train-whistle-daniel_simon.wav\")\n",
    "\n",
    "# Convert the waveform to a PyTorch tensor and move to the GPU if available\n",
    "waveform = torch.tensor(waveform_np, dtype=torch.float32).to(device).unsqueeze(0)\n",
    "\n",
    "# Apply a basic transformation (e.g., Resample)\n",
    "transform = T.Resample(orig_freq=sample_rate, new_freq=16000).to(device)\n",
    "transformed_waveform = transform(waveform)\n",
    "\n",
    "print(\"Torchaudio test successful. Transformed waveform shape:\", transformed_waveform.shape)"
   ]
  }
 ],
 "metadata": {
  "kernelspec": {
   "display_name": "Python 3 (ipykernel)",
   "language": "python",
   "name": "python3"
  },
  "language_info": {
   "codemirror_mode": {
    "name": "ipython",
    "version": 3
   },
   "file_extension": ".py",
   "mimetype": "text/x-python",
   "name": "python",
   "nbconvert_exporter": "python",
   "pygments_lexer": "ipython3",
   "version": "3.10.14"
  }
 },
 "nbformat": 4,
 "nbformat_minor": 5
}
