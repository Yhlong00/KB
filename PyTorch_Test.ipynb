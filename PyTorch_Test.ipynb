{
 "cells": [
  {
   "cell_type": "code",
   "execution_count": 1,
   "id": "dc51a9cb-dbcd-42ac-866a-769f8dddbdd8",
   "metadata": {},
   "outputs": [
    {
     "name": "stdout",
     "output_type": "stream",
     "text": [
      "CUDA is available. PyTorch is using the GPU.\n",
      "Number of GPUs available: 1\n",
      "GPU Name: NVIDIA RTX 2000 Ada Generation\n",
      "ROCm (MPS) backend is not available.\n",
      "Tensor operation successful. Result:\n",
      " tensor([[ 1.8417,  0.9491, -0.2053],\n",
      "        [-4.0402, -0.8280,  2.2958],\n",
      "        [ 1.2262, -0.3550, -0.0769]])\n"
     ]
    }
   ],
   "source": [
    "import torch\n",
    "\n",
    "# Check if the GPU is available\n",
    "if torch.cuda.is_available():\n",
    "    print(\"CUDA is available. PyTorch is using the GPU.\")\n",
    "    print(\"Number of GPUs available:\", torch.cuda.device_count())\n",
    "    print(\"GPU Name:\", torch.cuda.get_device_name(0))\n",
    "else:\n",
    "    print(\"CUDA is not available. PyTorch is not using the GPU.\")\n",
    "    \n",
    "# Check if ROCm is available\n",
    "if torch.backends.mps.is_available():\n",
    "    print(\"ROCm (MPS) backend is available.\")\n",
    "else:\n",
    "    print(\"ROCm (MPS) backend is not available.\")\n",
    "\n",
    "# Perform a simple tensor operation on the GPU\n",
    "try:\n",
    "    # Create a tensor\n",
    "    x = torch.randn(3, 3)\n",
    "\n",
    "    # Move the tensor to the GPU (if available)\n",
    "    device = torch.device(\"cuda\" if torch.cuda.is_available() else \"cpu\")\n",
    "    x = x.to(device)\n",
    "\n",
    "    # Perform a matrix multiplication (as an example)\n",
    "    y = torch.mm(x, x)\n",
    "\n",
    "    # Move the result back to the CPU (if necessary)\n",
    "    y = y.to(\"cpu\")\n",
    "\n",
    "    print(\"Tensor operation successful. Result:\\n\", y)\n",
    "\n",
    "except Exception as e:\n",
    "    print(\"Error during tensor operation:\", e)"
   ]
  },
  {
   "cell_type": "code",
   "execution_count": 2,
   "id": "fa49729d-0c7a-4ff3-8fcd-72f69c9ae9f8",
   "metadata": {},
   "outputs": [
    {
     "name": "stderr",
     "output_type": "stream",
     "text": [
      "/usr/local/lib/python3.11/dist-packages/torchvision/models/_utils.py:208: UserWarning: The parameter 'pretrained' is deprecated since 0.13 and may be removed in the future, please use 'weights' instead.\n",
      "  warnings.warn(\n",
      "/usr/local/lib/python3.11/dist-packages/torchvision/models/_utils.py:223: UserWarning: Arguments other than a weight enum or `None` for 'weights' are deprecated since 0.13 and may be removed in the future. The current behavior is equivalent to passing `weights=ResNet18_Weights.IMAGENET1K_V1`. You can also use `weights=ResNet18_Weights.DEFAULT` to get the most up-to-date weights.\n",
      "  warnings.warn(msg)\n",
      "Downloading: \"https://download.pytorch.org/models/resnet18-f37072fd.pth\" to /root/.cache/torch/hub/checkpoints/resnet18-f37072fd.pth\n",
      "100.0%\n"
     ]
    },
    {
     "name": "stdout",
     "output_type": "stream",
     "text": [
      "Torchvision test successful. Model output shape: torch.Size([1, 1000])\n"
     ]
    }
   ],
   "source": [
    "import torch\n",
    "import torchvision.models as models\n",
    "import torchvision.transforms as transforms\n",
    "from PIL import Image\n",
    "\n",
    "# Check if GPU is available\n",
    "device = torch.device(\"cuda\" if torch.cuda.is_available() else \"cpu\")\n",
    "\n",
    "# Load a pretrained model\n",
    "model = models.resnet18(pretrained=True)\n",
    "model = model.to(device)\n",
    "model.eval()\n",
    "\n",
    "# Create a random image tensor\n",
    "image_tensor = torch.randn(1, 3, 224, 224).to(device)\n",
    "\n",
    "# Perform a forward pass\n",
    "with torch.no_grad():\n",
    "    output = model(image_tensor)\n",
    "\n",
    "print(\"Torchvision test successful. Model output shape:\", output.shape)"
   ]
  },
  {
   "cell_type": "code",
   "execution_count": 3,
   "id": "9bb12b78-23e7-404f-8461-c777e7b07155",
   "metadata": {},
   "outputs": [
    {
     "name": "stdout",
     "output_type": "stream",
     "text": [
      "Collecting scipy\n",
      "  Downloading scipy-1.14.0-cp311-cp311-manylinux_2_17_x86_64.manylinux2014_x86_64.whl.metadata (60 kB)\n",
      "Requirement already satisfied: numpy<2.3,>=1.23.5 in /usr/local/lib/python3.11/dist-packages (from scipy) (2.1.0)\n",
      "Downloading scipy-1.14.0-cp311-cp311-manylinux_2_17_x86_64.manylinux2014_x86_64.whl (41.1 MB)\n",
      "\u001b[2K   \u001b[90m━━━━━━━━━━━━━━━━━━━━━━━━━━━━━━━━━━━━━━━━\u001b[0m \u001b[32m41.1/41.1 MB\u001b[0m \u001b[31m151.8 MB/s\u001b[0m eta \u001b[36m0:00:00\u001b[0ma \u001b[36m0:00:01\u001b[0m\n",
      "\u001b[?25hInstalling collected packages: scipy\n",
      "Successfully installed scipy-1.14.0\n",
      "\u001b[33mWARNING: Running pip as the 'root' user can result in broken permissions and conflicting behaviour with the system package manager, possibly rendering your system unusable.It is recommended to use a virtual environment instead: https://pip.pypa.io/warnings/venv. Use the --root-user-action option if you know what you are doing and want to suppress this warning.\u001b[0m\u001b[33m\n",
      "\u001b[0mNote: you may need to restart the kernel to use updated packages.\n"
     ]
    }
   ],
   "source": [
    "pip install scipy"
   ]
  },
  {
   "cell_type": "code",
   "execution_count": 8,
   "id": "b0901019-69f7-4f80-8e2e-b54be0b63d89",
   "metadata": {},
   "outputs": [
    {
     "name": "stdout",
     "output_type": "stream",
     "text": [
      "Torchaudio test successful. Transformed waveform shape: torch.Size([1, 109368, 1])\n"
     ]
    }
   ],
   "source": [
    "import torch\n",
    "import torchaudio\n",
    "import torchaudio.transforms as T\n",
    "from scipy.io import wavfile\n",
    "\n",
    "# Check if GPU is available\n",
    "device = torch.device(\"cuda\" if torch.cuda.is_available() else \"cpu\")\n",
    "\n",
    "# Use SciPy to load the audio file\n",
    "sample_rate, waveform_np = wavfile.read(\"/root/.cache/torch/hub/torchaudio/tutorial-assets/steam-train-whistle-daniel_simon.wav\")\n",
    "\n",
    "# Convert the waveform to a PyTorch tensor and move to the GPU if available\n",
    "waveform = torch.tensor(waveform_np, dtype=torch.float32).to(device).unsqueeze(0)\n",
    "\n",
    "# Apply a basic transformation (e.g., Resample)\n",
    "transform = T.Resample(orig_freq=sample_rate, new_freq=16000).to(device)\n",
    "transformed_waveform = transform(waveform)\n",
    "\n",
    "print(\"Torchaudio test successful. Transformed waveform shape:\", transformed_waveform.shape)"
   ]
  }
 ],
 "metadata": {
  "kernelspec": {
   "display_name": "Python 3 (ipykernel)",
   "language": "python",
   "name": "python3"
  },
  "language_info": {
   "codemirror_mode": {
    "name": "ipython",
    "version": 3
   },
   "file_extension": ".py",
   "mimetype": "text/x-python",
   "name": "python",
   "nbconvert_exporter": "python",
   "pygments_lexer": "ipython3",
   "version": "3.11.9"
  }
 },
 "nbformat": 4,
 "nbformat_minor": 5
}
