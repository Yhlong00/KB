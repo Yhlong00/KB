{
 "cells": [
  {
   "cell_type": "code",
   "execution_count": 4,
   "id": "69f2983f-ac4d-4d87-9443-9d531ae04ed8",
   "metadata": {},
   "outputs": [
    {
     "name": "stdout",
     "output_type": "stream",
     "text": [
      "CPU Info: {'Processor': 'x86_64', 'Cores': 24, 'Logical Cores': 48, 'Max Frequency': '2300.00Mhz'}\n",
      "Memory Info: {'Total Memory': '251.55 GB', 'Available Memory': '245.00 GB'}\n",
      "GPU Info: [{'GPU': 'NVIDIA GeForce RTX 4090', 'Total Memory': '23.65 GB', 'CUDA Capability': (8, 9)}]\n"
     ]
    }
   ],
   "source": [
    "import psutil\n",
    "import platform\n",
    "import torch\n",
    "\n",
    "# Get CPU information\n",
    "cpu_info = {\n",
    "    'Processor': platform.processor(),\n",
    "    'Cores': psutil.cpu_count(logical=False),\n",
    "    'Logical Cores': psutil.cpu_count(logical=True),\n",
    "    'Max Frequency': f\"{psutil.cpu_freq().max:.2f}Mhz\"\n",
    "}\n",
    "\n",
    "# Get Memory information\n",
    "virtual_mem = psutil.virtual_memory()\n",
    "memory_info = {\n",
    "    'Total Memory': f\"{virtual_mem.total / (1024 ** 3):.2f} GB\",\n",
    "    'Available Memory': f\"{virtual_mem.available / (1024 ** 3):.2f} GB\"\n",
    "}\n",
    "\n",
    "# Get GPU information\n",
    "gpu_info = []\n",
    "if torch.cuda.is_available():\n",
    "    for i in range(torch.cuda.device_count()):\n",
    "        gpu_info.append({\n",
    "            'GPU': torch.cuda.get_device_name(i),\n",
    "            'Total Memory': f\"{torch.cuda.get_device_properties(i).total_memory / (1024 ** 3):.2f} GB\",\n",
    "            'CUDA Capability': torch.cuda.get_device_capability(i)\n",
    "        })\n",
    "else:\n",
    "    gpu_info.append({'GPU': 'No GPU available'})\n",
    "\n",
    "print(\"CPU Info:\", cpu_info)\n",
    "print(\"Memory Info:\", memory_info)\n",
    "print(\"GPU Info:\", gpu_info)"
   ]
  },
  {
   "cell_type": "code",
   "execution_count": 3,
   "id": "6f14c21d-6b3a-4ce4-86dc-84983a121477",
   "metadata": {},
   "outputs": [
    {
     "name": "stdout",
     "output_type": "stream",
     "text": [
      "Average time taken for matrix multiplication on the GPU: 1.2177 seconds per iteration\n"
     ]
    }
   ],
   "source": [
    "import torch\n",
    "import time\n",
    "\n",
    "# Check if GPU is available\n",
    "device = torch.device(\"cuda\" if torch.cuda.is_available() else \"cpu\")\n",
    "\n",
    "# Set the size of the matrices\n",
    "matrix_size = 30000  # Increased matrix size for more computation\n",
    "\n",
    "# Generate two large random matrices\n",
    "A = torch.randn(matrix_size, matrix_size, device=device)\n",
    "B = torch.randn(matrix_size, matrix_size, device=device)\n",
    "\n",
    "# Ensure GPU is initialized\n",
    "torch.cuda.synchronize()\n",
    "\n",
    "# Number of iterations for the test\n",
    "num_iterations = 50\n",
    "\n",
    "# Warm-up run to initialize GPU (optional)\n",
    "torch.matmul(A, B)\n",
    "\n",
    "# Measure the time for multiple matrix multiplications on the GPU\n",
    "start_time = time.time()\n",
    "for _ in range(num_iterations):\n",
    "    C = torch.matmul(A, B)\n",
    "torch.cuda.synchronize()\n",
    "end_time = time.time()\n",
    "\n",
    "# Calculate average time per iteration\n",
    "average_time_per_iteration = (end_time - start_time) / num_iterations\n",
    "\n",
    "# Print the results\n",
    "print(f\"Average time taken for matrix multiplication on the GPU: {average_time_per_iteration:.4f} seconds per iteration\")"
   ]
  },
  {
   "cell_type": "code",
   "execution_count": null,
   "id": "d4550ac4-9037-47b9-8691-bf142422c463",
   "metadata": {},
   "outputs": [],
   "source": []
  }
 ],
 "metadata": {
  "kernelspec": {
   "display_name": "Python 3 (ipykernel)",
   "language": "python",
   "name": "python3"
  },
  "language_info": {
   "codemirror_mode": {
    "name": "ipython",
    "version": 3
   },
   "file_extension": ".py",
   "mimetype": "text/x-python",
   "name": "python",
   "nbconvert_exporter": "python",
   "pygments_lexer": "ipython3",
   "version": "3.10.12"
  }
 },
 "nbformat": 4,
 "nbformat_minor": 5
}
