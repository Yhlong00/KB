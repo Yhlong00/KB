{
 "cells": [
  {
   "cell_type": "code",
   "execution_count": 1,
   "id": "45099ac8-050f-4f91-94fd-3ce98db23bdf",
   "metadata": {},
   "outputs": [
    {
     "name": "stdout",
     "output_type": "stream",
     "text": [
      "CUDA is available. PyTorch is using the GPU.\n",
      "Number of GPUs available: 1\n",
      "GPU Name: AMD Instinct MI300X\n",
      "ROCm (MPS) backend is not available.\n",
      "Tensor operation successful. Result:\n",
      " tensor([[ 1.1828, -0.9362,  2.6022],\n",
      "        [-0.5895,  0.7270, -2.9841],\n",
      "        [ 0.3393, -0.2036,  4.3683]])\n"
     ]
    }
   ],
   "source": [
    "import torch\n",
    "\n",
    "# Check if the GPU is available\n",
    "if torch.cuda.is_available():\n",
    "    print(\"CUDA is available. PyTorch is using the GPU.\")\n",
    "    print(\"Number of GPUs available:\", torch.cuda.device_count())\n",
    "    print(\"GPU Name:\", torch.cuda.get_device_name(0))\n",
    "else:\n",
    "    print(\"CUDA is not available. PyTorch is not using the GPU.\")\n",
    "    \n",
    "# Check if ROCm is available\n",
    "if torch.backends.mps.is_available():\n",
    "    print(\"ROCm (MPS) backend is available.\")\n",
    "else:\n",
    "    print(\"ROCm (MPS) backend is not available.\")\n",
    "\n",
    "# Perform a simple tensor operation on the GPU\n",
    "try:\n",
    "    # Create a tensor\n",
    "    x = torch.randn(3, 3)\n",
    "\n",
    "    # Move the tensor to the GPU (if available)\n",
    "    device = torch.device(\"cuda\" if torch.cuda.is_available() else \"cpu\")\n",
    "    x = x.to(device)\n",
    "\n",
    "    # Perform a matrix multiplication (as an example)\n",
    "    y = torch.mm(x, x)\n",
    "\n",
    "    # Move the result back to the CPU (if necessary)\n",
    "    y = y.to(\"cpu\")\n",
    "\n",
    "    print(\"Tensor operation successful. Result:\\n\", y)\n",
    "\n",
    "except Exception as e:\n",
    "    print(\"Error during tensor operation:\", e)"
   ]
  },
  {
   "cell_type": "code",
   "execution_count": 2,
   "id": "9cd6605f-103a-4594-a1e8-f887569b8d6d",
   "metadata": {},
   "outputs": [
    {
     "name": "stderr",
     "output_type": "stream",
     "text": [
      "/opt/conda/envs/py_3.10/lib/python3.10/site-packages/torchvision-0.16.1+fdea156-py3.10-linux-x86_64.egg/torchvision/io/image.py:13: UserWarning: Failed to load image Python extension: '/opt/conda/envs/py_3.10/lib/python3.10/site-packages/torchvision-0.16.1+fdea156-py3.10-linux-x86_64.egg/torchvision/image.so: undefined symbol: _ZN3c1017RegisterOperatorsD1Ev'If you don't plan on using image functionality from `torchvision.io`, you can ignore this warning. Otherwise, there might be something wrong with your environment. Did you have `libjpeg` or `libpng` installed before building `torchvision` from source?\n",
      "  warn(\n",
      "/opt/conda/envs/py_3.10/lib/python3.10/site-packages/torchvision-0.16.1+fdea156-py3.10-linux-x86_64.egg/torchvision/models/_utils.py:208: UserWarning: The parameter 'pretrained' is deprecated since 0.13 and may be removed in the future, please use 'weights' instead.\n",
      "  warnings.warn(\n",
      "/opt/conda/envs/py_3.10/lib/python3.10/site-packages/torchvision-0.16.1+fdea156-py3.10-linux-x86_64.egg/torchvision/models/_utils.py:223: UserWarning: Arguments other than a weight enum or `None` for 'weights' are deprecated since 0.13 and may be removed in the future. The current behavior is equivalent to passing `weights=ResNet18_Weights.IMAGENET1K_V1`. You can also use `weights=ResNet18_Weights.DEFAULT` to get the most up-to-date weights.\n",
      "  warnings.warn(msg)\n",
      "Downloading: \"https://download.pytorch.org/models/resnet18-f37072fd.pth\" to /root/.cache/torch/hub/checkpoints/resnet18-f37072fd.pth\n",
      "100%|██████████| 44.7M/44.7M [00:00<00:00, 49.4MB/s]\n"
     ]
    },
    {
     "name": "stdout",
     "output_type": "stream",
     "text": [
      "Torchvision test successful. Model output shape: torch.Size([1, 1000])\n"
     ]
    }
   ],
   "source": [
    "import torch\n",
    "import torchvision.models as models\n",
    "import torchvision.transforms as transforms\n",
    "from PIL import Image\n",
    "\n",
    "# Check if GPU is available\n",
    "device = torch.device(\"cuda\" if torch.cuda.is_available() else \"cpu\")\n",
    "\n",
    "# Load a pretrained model\n",
    "model = models.resnet18(pretrained=True)\n",
    "model = model.to(device)\n",
    "model.eval()\n",
    "\n",
    "# Create a random image tensor\n",
    "image_tensor = torch.randn(1, 3, 224, 224).to(device)\n",
    "\n",
    "# Perform a forward pass\n",
    "with torch.no_grad():\n",
    "    output = model(image_tensor)\n",
    "\n",
    "print(\"Torchvision test successful. Model output shape:\", output.shape)"
   ]
  },
  {
   "cell_type": "code",
   "execution_count": 3,
   "id": "bc0d5778-05e9-4e8a-85cf-c5a62c55b72e",
   "metadata": {},
   "outputs": [
    {
     "name": "stderr",
     "output_type": "stream",
     "text": [
      "100%|██████████| 427k/427k [00:00<00:00, 1.17MB/s]\n"
     ]
    },
    {
     "name": "stdout",
     "output_type": "stream",
     "text": [
      "Torchaudio test successful. Transformed waveform shape: torch.Size([2, 39680])\n"
     ]
    }
   ],
   "source": [
    "import torch\n",
    "import torchaudio\n",
    "import torchaudio.transforms as T\n",
    "\n",
    "# Check if GPU is available\n",
    "device = torch.device(\"cuda\" if torch.cuda.is_available() else \"cpu\")\n",
    "\n",
    "# Load an example waveform (replace with your own audio file if necessary)\n",
    "waveform, sample_rate = torchaudio.load(torchaudio.utils.download_asset(\"tutorial-assets/steam-train-whistle-daniel_simon.wav\"))\n",
    "waveform = waveform.to(device)\n",
    "\n",
    "# Apply a basic transformation (e.g., Resample)\n",
    "transform = T.Resample(orig_freq=sample_rate, new_freq=16000).to(device)\n",
    "transformed_waveform = transform(waveform)\n",
    "\n",
    "print(\"Torchaudio test successful. Transformed waveform shape:\", transformed_waveform.shape)"
   ]
  }
 ],
 "metadata": {
  "kernelspec": {
   "display_name": "Python 3 (ipykernel)",
   "language": "python",
   "name": "python3"
  },
  "language_info": {
   "codemirror_mode": {
    "name": "ipython",
    "version": 3
   },
   "file_extension": ".py",
   "mimetype": "text/x-python",
   "name": "python",
   "nbconvert_exporter": "python",
   "pygments_lexer": "ipython3",
   "version": "3.10.14"
  }
 },
 "nbformat": 4,
 "nbformat_minor": 5
}
